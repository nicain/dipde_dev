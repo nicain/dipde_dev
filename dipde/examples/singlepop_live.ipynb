{
 "cells": [
  {
   "cell_type": "markdown",
   "metadata": {},
   "source": [
    "<div style=\"width:50%; float:left;\">\n",
    "    <img src=\"support_files/AIBS_banner.png\" width=\"430\" align=\"left\">\n",
    "</div>\n",
    "\n",
    "<div style=\"width:50%; float:right;\">\n",
    "    <img src=\"support_files/Dipde_Nick_final.png\" width=\"100\" height=\"100\" align=\"right\">\n",
    "</div>\n",
    "\n",
    "<div style=\"width:100%; float:left;\">\n",
    "    <hr>\n",
    "</div>\n",
    "\n"
   ]
  },
  {
   "cell_type": "markdown",
   "metadata": {},
   "source": [
    "<div style=\"border-left: 3px solid #000; padding: 1px; padding-left: 10px; background: #F0FAFF; \">\n",
    "<h1>Example: Singlepop</h1>\n",
    "<p> In this example, a single internal dipde population receives from a single external dipde population.  As the background firing rate \"`bgfr`\" is increased, the steady-state firing rate that the simulation reaches increases as well.  Try adjusting this parameter with the slider bar, or changing the parameterization of the simulation in the function block."
   ]
  },
  {
   "cell_type": "code",
   "execution_count": 1,
   "metadata": {
    "collapsed": false
   },
   "outputs": [
    {
     "data": {
      "text/html": [
       "<style>\n",
       ".output_wrapper, .output {\n",
       "    height:auto !important;\n",
       "    max-height:1000px;  /* your desired max-height here */\n",
       "}\n",
       ".output_scroll {\n",
       "    box-shadow:none !important;\n",
       "    webkit-box-shadow:none !important;\n",
       "}\n",
       "</style>"
      ],
      "text/plain": [
       "<IPython.core.display.HTML object>"
      ]
     },
     "metadata": {},
     "output_type": "execute_result"
    }
   ],
   "source": [
    "%%html\n",
    "<style>\n",
    ".output_wrapper, .output {\n",
    "    height:auto !important;\n",
    "    max-height:1000px;  /* your desired max-height here */\n",
    "}\n",
    ".output_scroll {\n",
    "    box-shadow:none !important;\n",
    "    webkit-box-shadow:none !important;\n",
    "}\n",
    "</style>"
   ]
  },
  {
   "cell_type": "code",
   "execution_count": 2,
   "metadata": {
    "collapsed": false
   },
   "outputs": [],
   "source": [
    "%matplotlib notebook\n",
    "import dipde\n",
    "from IPython.display import display\n",
    "import matplotlib.pyplot as plt\n",
    "import ipywidgets as ipw\n",
    "import logging\n",
    "logging.disable(logging.CRITICAL)\n",
    "from dipde.interfaces.jupyter import ProgressBar, Slider\n",
    "from IPython.display import display\n",
    "import time"
   ]
  },
  {
   "cell_type": "code",
   "execution_count": 3,
   "metadata": {
    "collapsed": false
   },
   "outputs": [
    {
     "data": {
      "text/plain": [
       "<IPython.core.display.Javascript object>"
      ]
     },
     "metadata": {},
     "output_type": "display_data"
    },
    {
     "data": {
      "text/html": [
       "<img src=\"data:image/png;base64,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\">"
      ],
      "text/plain": [
       "<IPython.core.display.HTML object>"
      ]
     },
     "metadata": {},
     "output_type": "execute_result"
    }
   ],
   "source": [
    "t0 = 0.\n",
    "dt = .001\n",
    "dv = .001\n",
    "v_max = .02\n",
    "tf = .1\n",
    "tau_m=.02\n",
    "weights=.005\n",
    "window_size = .05\n",
    "\n",
    "def slow_callback(n):\n",
    "    time.sleep(.1)\n",
    "\n",
    "b1 = dipde.ExternalPopulation(100)\n",
    "\n",
    "slider = Slider(display=True, value=100, min=0, max=200, continuous_update=False)\n",
    "slider.set_target(b1, 'external_firing_rate')\n",
    "\n",
    "\n",
    "i1 = dipde.InternalPopulation(v_min=0, tau_m=tau_m, v_max=v_max, dv=dv, update_method='approx')\n",
    "b1_i1 = dipde.Connection(b1, i1, 1, weights=weights)\n",
    "network = dipde.Network([b1, i1], [b1_i1], progress=ProgressBar(), update_callback=slow_callback)\n",
    "\n",
    "fig, ax = plt.subplots(1,1, figsize=(5,5))\n",
    "i1.plot(xlim=(0,.05), ax=ax, ylim=(0,8), color='r', show=True)\n",
    "\n",
    "def plot_callback(s):\n",
    "    \n",
    "    p = s.network.population_list[1]\n",
    "    window_points = int(window_size/dt)\n",
    "\n",
    "    if len(p.t_record) < window_points:\n",
    "\n",
    "        t_vals = p.t_record\n",
    "        y_vals = p.firing_rate_record\n",
    "    else:\n",
    "        t_vals = p.t_record[-window_points:]\n",
    "        y_vals = p.firing_rate_record[-window_points:]\n",
    "\n",
    "    ax.lines[0].set_xdata(t_vals)\n",
    "    ax.lines[0].set_ydata(y_vals)\n",
    "    if t_vals[-1] < window_size:\n",
    "        t_max = window_size\n",
    "    else:\n",
    "        t_max = t_vals[-1]*1.05\n",
    "\n",
    "    ax.set_xlim((t_vals[0],t_max))\n",
    "    ax.set_ylim((-.1,max(8, max(y_vals)*1.1)))\n",
    "\n",
    "    fig.canvas.draw()\n",
    "\n",
    "simulation_configuration = dipde.SimulationConfiguration(dt, tf, t0=t0, checkpoint_period=.2)\n",
    "simulation = dipde.Simulation(network=network, simulation_configuration=simulation_configuration, checkpoint_callback=plot_callback)\n",
    "simulation.start()"
   ]
  },
  {
   "cell_type": "code",
   "execution_count": null,
   "metadata": {
    "collapsed": true
   },
   "outputs": [],
   "source": [
    ""
   ]
  },
  {
   "cell_type": "code",
   "execution_count": null,
   "metadata": {
    "collapsed": true
   },
   "outputs": [],
   "source": [
    ""
   ]
  }
 ],
 "metadata": {
  "anaconda-cloud": {},
  "kernelspec": {
   "display_name": "Python [default]",
   "language": "python",
   "name": "python2"
  },
  "language_info": {
   "codemirror_mode": {
    "name": "ipython",
    "version": 2.0
   },
   "file_extension": ".py",
   "mimetype": "text/x-python",
   "name": "python",
   "nbconvert_exporter": "python",
   "pygments_lexer": "ipython2",
   "version": "2.7.12"
  },
  "widgets": {
   "state": {
    "568b5726a5934e779ca84b8ab174e57f": {
     "views": [
      {
       "cell_index": 4.0
      }
     ]
    },
    "97bcdc85223c4bafa5e84a73a6eeb94b": {
     "views": [
      {
       "cell_index": 4.0
      }
     ]
    }
   },
   "version": "1.2.0"
  }
 },
 "nbformat": 4,
 "nbformat_minor": 0
}